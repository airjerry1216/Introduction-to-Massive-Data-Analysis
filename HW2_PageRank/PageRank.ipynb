{
 "cells": [
  {
   "cell_type": "markdown",
   "metadata": {},
   "source": [
    "# PageRank\n",
    "With PageRank equation &nbsp;[Brin-Page, '98] :\n",
    "$$ r_j=\\sum_{i\\rightarrow j}\\beta\\dfrac{r_i}{d_i}+(1-\\beta)\\dfrac{1}{N} $$  \n",
    "and dead-ends renormalize :\n",
    "$$ \\forall j:r^{new}_j=r'^{new}_j+\\dfrac{1-S}{N}\\quad where: S=\\Sigma_jr'^{new}_j  $$  \n",
    "## Report :  \n",
    "### 首先將 input 轉成 adjacent list :  \n",
    "```python\n",
    "flatMap(mapper_split) 及 redeceByKey(reducer)\n",
    "\n",
    "[(2, [4]), (1, [2, 3]), (3, [1, 4, 5]), (5, [1, 4])]\n",
    "```\n",
    "### 接著 create initial ranks :  \n",
    "```python\n",
    "ranks = mapValues(lambda dests: init)\n",
    "\n",
    "[(2, 0.2), (1, 0.2), (3, 0.2), (5, 0.2)]\n",
    "```\n",
    "### 以下以 for loop 執行 20 次    \n",
    "##### 把 adjacent list 跟 ranks join 在一起 :\n",
    "```python\n",
    "contribution = lines.join(ranks)\n",
    "\n",
    "[(2, ([4], 0.2)), (1, ([2, 3], 0.2)), (3, ([1, 4, 5], 0.2)), (5, ([1, 4], 0.2))]  \n",
    "```\n",
    "##### 計算 PageRank equation :\n",
    "```python\n",
    "contribution = contribution.flatMap(lambda line: compute(line[1][0], line[1][1]))\n",
    "contribution = contribution.reduceByKey(reducer)\n",
    "ranks = contribution.mapValues(lambda rank: (beta * rank) + ((1 - beta) / v_cnt))\n",
    "\n",
    "[(4, 0.33333333333333337), (2, 0.12000000000000001), (3, 0.12000000000000001), (1, 0.17333333333333334), (5, 0.09333333333333332)]\n",
    "```\n",
    "##### 計算 dead-ends renormalize :\n",
    "```python\n",
    "S = ranks.values().sum()\n",
    "ranks = ranks.mapValues(lambda rank: rank + (1 - S) / v_cnt)\n",
    "\n",
    "[(4, 0.36533333333333334), (2, 0.152), (3, 0.152), (1, 0.2053333333333333), (5, 0.1253333333333333)]\n",
    "```\n",
    "### 迴圈結束後進行排序並輸出答案 :\n",
    "```python\n",
    "ans = ranks.collect()\n",
    "ans = sorted(ans, key = lambda x: x[1], reverse = True)\n",
    "print(ans)\n",
    "\n",
    "[(4, 0.3290734821381495), (1, 0.19314551263107277), (2, 0.16990996237299621), (3, 0.16990996237299621), (5, 0.13796108048478528)]\n",
    "```"
   ]
  },
  {
   "cell_type": "code",
   "execution_count": 1,
   "metadata": {},
   "outputs": [
    {
     "data": {
      "text/plain": [
       "'\\ndef mapper_link(line):\\n    maplist = []\\n    key = line[0]\\n    for dest in line[1][0]:\\n        maplist.append((dest, beta * init / len(line[0])))\\n    return maplist\\ndef mapper_random(line):\\n    maplist = []\\n    random = (1 - beta) / v_cnt\\n    maplist.append((line[0], line[1] + random))\\n    return maplist\\ndef mapper_leak(line):\\n    maplist = []\\n    leak = (1 - S) / v_cnt\\n    maplist.append((line[0], line[1] + leak))\\n    return maplist\\n'"
      ]
     },
     "execution_count": 1,
     "metadata": {},
     "output_type": "execute_result"
    }
   ],
   "source": [
    "from pyspark import SparkConf, SparkContext\n",
    "import datetime\n",
    "import re\n",
    "beta = 0.8\n",
    "iterations = 20\n",
    "v_cnt = 10876\n",
    "#v_cnt = 5\n",
    "init = 1 / v_cnt\n",
    "\n",
    "def mapper_split(lines):\n",
    "    maplist = []\n",
    "    linelist = lines.splitlines()\n",
    "    for line in linelist:\n",
    "        item = re.split(\" |\\t\", line)\n",
    "        maplist.append((int(item[0]),[int(item[1])]))\n",
    "    return maplist\n",
    "def reducer(x, y):\n",
    "    return x + y\n",
    "def compute(dests, rank):\n",
    "    d = len(dests)\n",
    "    for dest in dests:\n",
    "        yield (dest, rank / d)\n",
    "'''\n",
    "def mapper_link(line):\n",
    "    maplist = []\n",
    "    key = line[0]\n",
    "    for dest in line[1][0]:\n",
    "        maplist.append((dest, beta * init / len(line[0])))\n",
    "    return maplist\n",
    "def mapper_random(line):\n",
    "    maplist = []\n",
    "    random = (1 - beta) / v_cnt\n",
    "    maplist.append((line[0], line[1] + random))\n",
    "    return maplist\n",
    "def mapper_leak(line):\n",
    "    maplist = []\n",
    "    leak = (1 - S) / v_cnt\n",
    "    maplist.append((line[0], line[1] + leak))\n",
    "    return maplist\n",
    "'''"
   ]
  },
  {
   "cell_type": "code",
   "execution_count": 2,
   "metadata": {},
   "outputs": [
    {
     "name": "stdout",
     "output_type": "stream",
     "text": [
      "執行時間： 0:00:07.003871\n"
     ]
    }
   ],
   "source": [
    "start = datetime.datetime.now()\n",
    "\n",
    "sc.stop()\n",
    "conf = SparkConf().setMaster(\"local[*]\").setAppName(\"PageRank\")\n",
    "sc = SparkContext(conf = conf)\n",
    "lines = sc.textFile(\"p2p-Gnutella04.txt\")\n",
    "#lines = sc.textFile(\"test.txt\")\n",
    "lines = lines.flatMap(mapper_split)\n",
    "lines = lines.reduceByKey(reducer)\n",
    "ranks = lines.mapValues(lambda dests: init) #create initial ranks\n",
    "for i in range(iterations):\n",
    "    contribution = lines.join(ranks)\n",
    "    contribution = contribution.flatMap(lambda line: compute(line[1][0], line[1][1])) \n",
    "    contribution = contribution.reduceByKey(reducer)\n",
    "    ranks = contribution.mapValues(lambda rank: (beta * rank) + ((1 - beta) / v_cnt)) \n",
    "    S = ranks.values().sum()\n",
    "    ranks = ranks.mapValues(lambda rank: rank + (1 - S) / v_cnt)\n",
    "ans = ranks.collect()\n",
    "ans = sorted(ans, key = lambda x: x[1], reverse = True)\n",
    "\n",
    "'''#lines = lines.flatMap(mapper_link)\n",
    "#print(lines.collect())\n",
    "#lines = lines.reduceByKey(reducer)\n",
    "#print(lines.collect())\n",
    "#lines = lines.flatMap(mapper_random)\n",
    "#print(lines.collect())\n",
    "# S = lines.map(lambda v:v[1]).sum()\n",
    "#S = lines.values().sum()\n",
    "#print(S)\n",
    "#lines = lines.flatMap(mapper_leak)\n",
    "#print(lines.collect())'''\n",
    "\n",
    "end = datetime.datetime.now()\n",
    "print(\"執行時間：\", end - start)"
   ]
  },
  {
   "cell_type": "code",
   "execution_count": 3,
   "metadata": {},
   "outputs": [],
   "source": [
    "file = open('output.txt', 'w')\n",
    "i = 0\n",
    "for dest, rank in ans:\n",
    "    if i > 9:\n",
    "        break\n",
    "    file.write(str(dest) + \"\\t\" + str(rank))\n",
    "    file.write('\\n')\n",
    "    i += 1\n",
    "file.close()\n",
    "sc.stop()"
   ]
  }
 ],
 "metadata": {
  "kernelspec": {
   "display_name": "Python 3",
   "language": "python",
   "name": "python3"
  },
  "language_info": {
   "codemirror_mode": {
    "name": "ipython",
    "version": 3
   },
   "file_extension": ".py",
   "mimetype": "text/x-python",
   "name": "python",
   "nbconvert_exporter": "python",
   "pygments_lexer": "ipython3",
   "version": "3.8.3"
  }
 },
 "nbformat": 4,
 "nbformat_minor": 4
}
